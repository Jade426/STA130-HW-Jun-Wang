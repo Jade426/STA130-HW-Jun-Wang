{
 "cells": [
  {
   "cell_type": "markdown",
   "id": "668b5b62",
   "metadata": {},
   "source": [
    "#Question 1\n",
    "-Bootstrapping: Bootstrapping is a resampling method used in statistics. We get the same size of sample repeatedly with replacement from the original data.This makes the sample estimate more accurately when underlying distribution is unknown or the sample size is small.\n",
    "-Standard Deviation: This is a measure of the amount of variation of the values of a variable about its mean.It tells the fluctuation of the sample mean to the true population mean.\n",
    "-Standard Error of the mean: It measures how far the sample mean of the data is likely to be from the true population mean.\n",
    "-Difference: Standard deviation measures the spread of the datapoints, while the standard error of mean relects the variation of the sample mean to the population mean, it measures the accuracy of the sample."
   ]
  },
  {
   "cell_type": "markdown",
   "id": "f7e61df8",
   "metadata": {},
   "source": [
    "Q1 Chat History with ChatGPT\n",
    "\n",
    "please provide me a summary of our chat\n",
    "ChatGPT says：\n",
    "ChatGPT\n",
    "In our chat, we discussed the following concepts:\n",
    "\n",
    "Bootstrapping: A statistical resampling technique used to estimate the distribution of a sample statistic by drawing many samples with replacement from the original data. It helps in estimating the accuracy (such as confidence intervals) of sample statistics, particularly when the underlying distribution is unknown or the sample size is small.\n",
    "\n",
    "Standard Error of the Mean (SEM) vs. Standard Deviation (SD):\n",
    "\n",
    "Standard Deviation (SD) measures the spread or variability of individual data points around the sample mean, giving insight into how spread out the data is.\n",
    "Standard Error of the Mean (SEM) measures the precision of the sample mean as an estimate of the population mean. It indicates how much the sample mean is likely to vary if you took multiple samples from the population. SEM decreases with a larger sample size.\n",
    "I also provided examples to help clarify the distinctions between these two concepts, emphasizing that SD captures variability in the data, while SEM captures the reliability of the sample mean.\n",
    "\n",
    "\n",
    "https://chatgpt.com/share/66fe29b7-414c-8002-b4f4-7f7563d9f68b\n",
    "\n",
    "\n",
    "\n"
   ]
  },
  {
   "cell_type": "markdown",
   "id": "f335b941",
   "metadata": {},
   "source": [
    "#Question 2\n",
    "Firstly, we need to caculate the standard error of mean, then we need to determine the critical value. Depends on the sample size, we choose to use z-scaore or t-score. After that, we try to calculate the confidence interval, using CI= x bar ± (z/t×SEM). With boostrapped sample, we try to obtain the bootstrapped mean, then we calculate standard error of this mean, and finally construct a confidence interval."
   ]
  },
  {
   "cell_type": "markdown",
   "id": "2ad33232",
   "metadata": {},
   "source": [
    "Question 2 Chat history with ChatGPT\n",
    "\n",
    "please provide me a summary of our chat\n",
    "ChatGPT says：\n",
    "ChatGPT\n",
    "In this conversation, we discussed how to create a 95% confidence interval using the standard error of the mean (SEM). The key steps involve:\n",
    "\n",
    "Calculating the SEM as the sample standard deviation divided by the square root of the sample size.\n",
    "Using a critical value (1.96 for large samples or a t-score for smaller samples) to calculate the confidence interval.\n",
    "Constructing the confidence interval around the sample mean as \n",
    "𝑥\n",
    "ˉ\n",
    "±\n",
    "(\n",
    "𝑧\n",
    "×\n",
    "𝑆\n",
    "𝐸\n",
    "𝑀\n",
    ")\n",
    "x\n",
    "ˉ\n",
    " ±(z×SEM).\n",
    "We also covered how to apply bootstrapping in this context by generating multiple bootstrapped sample means, calculating the SEM from these, and then constructing a confidence interval based on the bootstrapped sample means. This approach helps to cover approximately 95% of the bootstrapped sample means, offering a flexible method that doesn't rely on strict normality assumptions.\n",
    "\n",
    "\n",
    "\n",
    "\n",
    "https://chatgpt.com/share/66fe9673-dcf4-8002-89c0-fa5596238afa\n",
    "\n"
   ]
  },
  {
   "cell_type": "markdown",
   "id": "6e3820f1",
   "metadata": {},
   "source": [
    "#Question 3\n",
    "Firstly, use pd.read_csv to load our sample data, then we need to construct our repeats number and sample_size number which is the same as the original data. Using np.zeros to make an array to save the values, then use np.random.seed to create our beginning vaalue, to make sure when we run the code and get the same result. After that, use np.random.choice to get sample from the original sample, with replace. Finally, use my_bootstrapped_sample.mean() to calculate the sample mean of bootstrapped sample. Finally, use np.quatile to calculate the 0.025 and 0.975 quartile of our bootstrapped sample."
   ]
  },
  {
   "cell_type": "code",
   "execution_count": 12,
   "id": "b77fede8",
   "metadata": {},
   "outputs": [
    {
     "name": "stdout",
     "output_type": "stream",
     "text": [
      "95% Bootstrap Confidence Interval for 'species_code': (16.081713554987214, 18.061381074168796)\n"
     ]
    }
   ],
   "source": [
    "#Question 4\n",
    "\n",
    "import pandas as pd\n",
    "import numpy as np\n",
    "\n",
    "# Load the dataset\n",
    "url = \"https://raw.githubusercontent.com/rfordatascience/tidytuesday/master/data/2020/2020-05-05/villagers.csv\"\n",
    "villagers_data = pd.read_csv(url)\n",
    "\n",
    "# Assign numeric codes to the 'species' column\n",
    "villagers_data['species_code'] = villagers_data['species'].astype('category').cat.codes\n",
    "\n",
    "# Define the bootstrap function\n",
    "def bootstrap_ci(data, n_bootstrap=1000, ci=95):\n",
    "    np.random.seed(42)\n",
    "    boot_means = []\n",
    "    \n",
    "    # Perform bootstrap sampling\n",
    "    for _ in range(n_bootstrap):\n",
    "        sample = np.random.choice(data, size=len(data), replace=True)\n",
    "        boot_means.append(np.mean(sample))\n",
    "    \n",
    "    # Calculate the confidence interval\n",
    "    lower_bound = np.percentile(boot_means, (100 - ci) / 2)\n",
    "    upper_bound = np.percentile(boot_means, 100 - (100 - ci) / 2)\n",
    "    \n",
    "    return lower_bound, upper_bound\n",
    "\n",
    "# Calculate 95% confidence interval for 'species_code'\n",
    "bootstrap_ci_result = bootstrap_ci(villagers_data['species_code'])\n",
    "\n",
    "# Display the result\n",
    "print(\"95% Bootstrap Confidence Interval for 'species_code':\", bootstrap_ci_result)\n"
   ]
  },
  {
   "cell_type": "markdown",
   "id": "1c7ba98b",
   "metadata": {},
   "source": [
    "Question 4 Chat history with ChatGPT\n",
    "\n",
    "Please provide me a summary of our chat\n",
    "ChatGPT says：\n",
    "ChatGPT\n",
    "Here's a summary of our chat:\n",
    "\n",
    "You initially provided a link to the Animal Crossing villagers dataset and asked for help calculating a 95% bootstrap confidence interval for the population mean using Python.\n",
    "After reviewing the dataset, we realized it does not have numeric columns suitable for calculating the mean directly. Therefore, I suggested encoding a categorical column (species) into numeric codes to perform the analysis.\n",
    "I provided Python code to calculate a 95% bootstrap confidence interval based on the species column's numeric codes.\n",
    "You mentioned that the code did not give the desired output, so I revised the code to ensure it outputs the result correctly when executed.\n",
    "Let me know if you need further assistance!\n",
    "\n",
    "https://chatgpt.com/share/66feac5b-7474-8002-8a2e-7e01d5dfc815"
   ]
  },
  {
   "cell_type": "markdown",
   "id": "02314656",
   "metadata": {},
   "source": [
    "#Question 5\n",
    "Because the population parameter is always fixed and unknown for us, since the entirepopulation is dufficult for us to research about it.Sample statistics takes sample to represent the population, itcan help us extimate the population.Distinguish these two parameter helps us clarify that the confidence interval is providing an estimate of the population parameter based on the sample statistic, accounting for the natural variability between samples."
   ]
  },
  {
   "cell_type": "markdown",
   "id": "d51e1fd6",
   "metadata": {},
   "source": [
    "#Question 6\n",
    "Imagine we're trying to figure out something about a huge group of people, but we only have a small group of them to work with. Bootstrapping is like saying, \"Okay, I know I don't have everyone, but maybe I can still get a good idea if I shuffle around my small group enough times.\"\n",
    "\n",
    "Here’s how it works: Bootstrapping takes our small sample of data and then resamples from that sample over and over. We’re not going back to the city to get new people; We’re just picking from the 100 we already have. Each time we pick, we could pick the same person more than once, this is called sampling with replacement. We do this like thousands of times, and for each time, we calculate the statistic we're interested in—like the average height in each resample.\n",
    "\n",
    "The main purpose of bootstrapping is to get an idea of the uncertainty or variability in our data without having to rely on complex math formulas or making assumptions about the population. So, instead of saying, “I only have this one sample, and I have no idea how confident I can be about my conclusions,” bootstrapping lets us use the data we have to simulate multiple scenarios and see how much those conclusions might change.\n",
    "\n",
    "Now, let’s say we have a hypothesis about the average height of the entire population, and we have our sample of 100 people. Bootstrapping helps us see if our guess is reasonable by taking that sample, resampling from it, and seeing what range of averages we get from the bootstrapped samples.\n",
    "\n",
    "If the range of averages from the bootstrapped samples includes something close to the hypothesis, then our guess might be plausible. But if none of the resampled averages come close to our hypothesis, we might rethink our guess. Essentially, we're using the data we have to test how likely our hypothesis is, based on the variability and patterns in our small sample."
   ]
  },
  {
   "cell_type": "markdown",
   "id": "43fe8f33",
   "metadata": {},
   "source": [
    "#Question 7\n",
    "\n",
    "Imagine we're testing if a new drug works, and the \"null hypothesis\" is the assumption that the drug has no effect (on average). When we create a confidence interval, we're basically trying to estimate a range of possible values for the drug's true from our study.\n",
    "\n",
    "Now, if this confidence interval includes zero, it means that one possible value for the true effect could be zero—meaning the drug might not have any effect at all. Since zero is in the mix of possible outcomes, we can't confidently say that the drug does something. This is why we \"fail to reject the null hypothesis\"—we haven't found strong enough evidence to prove the drug works (or has an effect).\n",
    "\n",
    "On the other hand, if the confidence interval does not include zero—let’s say the whole range is above zero—this would suggest that the true effect of the drug is likely something positive. In this case, we could say there’s enough evidence to \"reject the null hypothesis\" and conclude that the drug probably does have an effect.\n",
    "\n",
    "So, the key is whether zero is within the range of possible outcomes. If it is, we can’t reject the idea that the drug might do nothing. If it’s not, we can more confidently say the drug is having an impact."
   ]
  },
  {
   "cell_type": "code",
   "execution_count": 8,
   "id": "dc05733c",
   "metadata": {},
   "outputs": [
    {
     "data": {
      "image/png": "[encoded data removed]",
      "text/plain": [
       "<Figure size 1000x600 with 1 Axes>"
      ]
     },
     "metadata": {},
     "output_type": "display_data"
    },
    {
     "name": "stdout",
     "output_type": "stream",
     "text": [
      "Mean of Differences: 3.30\n",
      "Standard Deviation of Differences: 4.03\n",
      "T-statistic: 2.59, P-value: 0.0292\n",
      "95% Confidence Interval for the Mean Difference: [0.8 5.6]\n",
      "Reject the null hypothesis: There is significant evidence to suggest the vaccine has an effect.\n"
     ]
    }
   ],
   "source": [
    "#Question 8\n",
    "\n",
    "import pandas as pd\n",
    "import numpy as np\n",
    "import matplotlib.pyplot as plt\n",
    "import seaborn as sns\n",
    "from scipy import stats\n",
    "\n",
    "# Set random seed for reproducibility\n",
    "np.random.seed(329)\n",
    "\n",
    "# Load the data\n",
    "data = {\n",
    "    \"PatientID\": [1, 2, 3, 4, 5, 6, 7, 8, 9, 10],\n",
    "    \"Age\": [45, 34, 29, 52, 37, 41, 33, 48, 26, 39],\n",
    "    \"Gender\": [\"M\", \"F\", \"M\", \"F\", \"M\", \"F\", \"M\", \"F\", \"M\", \"F\"],\n",
    "    \"InitialHealthScore\": [84, 78, 83, 81, 81, 80, 79, 85, 76, 83],\n",
    "    \"FinalHealthScore\": [86, 86, 80, 86, 84, 86, 86, 82, 83, 84]\n",
    "}\n",
    "\n",
    "df = pd.DataFrame(data)\n",
    "\n",
    "# Calculate the differences\n",
    "df['Difference'] = df['FinalHealthScore'] - df['InitialHealthScore']\n",
    "\n",
    "# Data Visualization\n",
    "plt.figure(figsize=(10, 6))\n",
    "sns.boxplot(x='Gender', y='Difference', data=df)\n",
    "plt.title('Health Score Difference by Gender')\n",
    "plt.ylabel('Difference in Health Score')\n",
    "plt.xlabel('Gender')\n",
    "plt.grid()\n",
    "plt.show()\n",
    "\n",
    "# Quantitative Analysis\n",
    "mean_difference = df['Difference'].mean()\n",
    "std_difference = df['Difference'].std(ddof=1)\n",
    "n = df['Difference'].count()\n",
    "\n",
    "# Perform paired t-test\n",
    "t_statistic, p_value = stats.ttest_rel(df['FinalHealthScore'], df['InitialHealthScore'])\n",
    "print(f\"Mean of Differences: {mean_difference:.2f}\")\n",
    "print(f\"Standard Deviation of Differences: {std_difference:.2f}\")\n",
    "print(f\"T-statistic: {t_statistic:.2f}, P-value: {p_value:.4f}\")\n",
    "\n",
    "# Bootstrapping to calculate confidence interval\n",
    "bootstraps = 10000\n",
    "boot_means = np.empty(bootstraps)\n",
    "\n",
    "for i in range(bootstraps):\n",
    "    boot_sample = np.random.choice(df['Difference'], size=n, replace=True)\n",
    "    boot_means[i] = boot_sample.mean()\n",
    "\n",
    "# Calculate the 95% confidence interval\n",
    "conf_int = np.percentile(boot_means, [2.5, 97.5])\n",
    "print(f\"95% Confidence Interval for the Mean Difference: {conf_int}\")\n",
    "\n",
    "# Findings and Discussion\n",
    "# Null Hypothesis: H0: The vaccine has no effect (mean difference = 0)\n",
    "# Alternative Hypothesis: H1: The vaccine has an effect (mean difference ≠ 0)\n",
    "\n",
    "if p_value < 0.05:\n",
    "    print(\"Reject the null hypothesis: There is significant evidence to suggest the vaccine has an effect.\")\n",
    "else:\n",
    "    print(\"Fail to reject the null hypothesis: There is no significant evidence to suggest the vaccine has an effect.\")\n",
    "\n",
    "# Further Considerations\n",
    "# Discuss limitations, assumptions, and potential improvements in methodology\n",
    "\n",
    "# Save the DataFrame to a CSV file (optional)\n",
    "df.to_csv('vaccine_data_analysis.csv', index=False)\n"
   ]
  },
  {
   "cell_type": "markdown",
   "id": "34fab80c",
   "metadata": {},
   "source": [
    "#Question 9\n",
    "Yes"
   ]
  }
 ],
 "metadata": {
  "kernelspec": {
   "display_name": "Python 3 (ipykernel)",
   "language": "python",
   "name": "python3"
  },
  "language_info": {
   "codemirror_mode": {
    "name": "ipython",
    "version": 3
   },
   "file_extension": ".py",
   "mimetype": "text/x-python",
   "name": "python",
   "nbconvert_exporter": "python",
   "pygments_lexer": "ipython3",
   "version": "3.11.6"
  }
 },
 "nbformat": 4,
 "nbformat_minor": 5
}
